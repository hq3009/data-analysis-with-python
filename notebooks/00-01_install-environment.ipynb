{
 "cells": [
  {
   "cell_type": "markdown",
   "metadata": {},
   "source": [
    "# Python 基础\n",
    "\n",
    "## Python 的历史与现状\n",
    "\n",
    "## 数据分析平台的搭建\n",
    "### Anacanda\n",
    "Anaconda 足够完成绝大部分数据分析。Anaconda是一个免费开源的Python和R语言的发行版本，用于计算科学（数据科学、机器学习、大数据处理和预测分析），Anaconda致力于简化包管理和部署。Anaconda的包使用软件包管理系统Conda进行管理。Anaconda拥有超过1400个适用于Windows、Linux和MacOS的数据科学软件包。 \n",
    "- Windows\n",
    "  从 Anaconda 官网 [下载](https://www.anaconda.com/distribution/) 对应操作系统的版本，安装。\n",
    "- Linux\n",
    "\n",
    "### Jupyter Notebook\n",
    "### Jupyter Lab\n",
    "### Colab"
   ]
  },
  {
   "cell_type": "markdown",
   "metadata": {},
   "source": []
  }
 ],
 "metadata": {
  "kernelspec": {
   "display_name": "Python 3",
   "language": "python",
   "name": "python3"
  },
  "language_info": {
   "codemirror_mode": {
    "name": "ipython",
    "version": 3
   },
   "file_extension": ".py",
   "mimetype": "text/x-python",
   "name": "python",
   "nbconvert_exporter": "python",
   "pygments_lexer": "ipython3",
   "version": "3.9.5"
  }
 },
 "nbformat": 4,
 "nbformat_minor": 4
}
