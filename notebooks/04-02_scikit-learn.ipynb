{
 "cells": [
  {
   "cell_type": "markdown",
   "metadata": {},
   "source": [
    "# Scikit-Learn"
   ]
  },
  {
   "cell_type": "markdown",
   "metadata": {},
   "source": [
    "scikit-learn 是基于 Python 语言的机器学习工具。其主要特点是：\n",
    "\n",
    "- 简单高效的数据挖掘和数据分析工具\n",
    "  - 可供大家在各种环境中重复使用\n",
    "  - 建立在 NumPy ，SciPy 和 matplotlib 上\n",
    "  - 开源，可商业使用 - BSD许可证\n",
    "\n",
    "下面使用 Scikit-Learn 和一个样本数据为例：\n",
    "数据为鸢尾花的花瓣和花萼的长度和宽度，数据见：https://gist.github.com/curran/a08a1080b88344b0c8a7"
   ]
  },
  {
   "cell_type": "code",
   "execution_count": null,
   "metadata": {},
   "outputs": [],
   "source": [
    "import seaborn as sns\n",
    "iris = sns.load_dataset('iris')\n",
    "iris.head()"
   ]
  },
  {
   "cell_type": "code",
   "execution_count": null,
   "metadata": {},
   "outputs": [],
   "source": [
    "数据可视化"
   ]
  },
  {
   "cell_type": "code",
   "execution_count": null,
   "metadata": {},
   "outputs": [],
   "source": [
    "%matplotlib inline\n",
    "import seaborn as sns; sns.set()\n",
    "sns.pairplot(iris, hue='species', size=1.5);"
   ]
  },
  {
   "cell_type": "code",
   "execution_count": null,
   "metadata": {},
   "outputs": [],
   "source": [
    "X_iris = iris.drop('species', axis=1)\n",
    "X_iris.shape"
   ]
  },
  {
   "cell_type": "code",
   "execution_count": null,
   "metadata": {},
   "outputs": [],
   "source": [
    "y_iris = iris['species']\n",
    "y_iris.shape"
   ]
  },
  {
   "cell_type": "markdown",
   "metadata": {},
   "source": [
    "### 简单线性回归"
   ]
  },
  {
   "cell_type": "code",
   "execution_count": null,
   "metadata": {},
   "outputs": [],
   "source": [
    "import matplotlib.pyplot as plt\n",
    "import numpy as np\n",
    "\n",
    "rng = np.random.RandomState(42)\n",
    "x = 10 * rng.rand(50)\n",
    "y = 2 * x - 1 + rng.randn(50)\n",
    "plt.scatter(x, y);"
   ]
  },
  {
   "cell_type": "code",
   "execution_count": null,
   "metadata": {},
   "outputs": [],
   "source": [
    "# 选择模型\n",
    "from sklearn.linear_model import LinearRegression\n",
    "# 假设条件\n",
    "model = LinearRegression(fit_intercept=True)\n",
    "model\n",
    "# 自变量矩阵\n",
    "X = x[:, np.newaxis]\n",
    "X.shape\n",
    "# 拟合模型\n",
    "model.fit(X, y)\n",
    "# 模型系数\n",
    "model.coef_\n",
    "# 模型截距\n",
    "model.intercept_\n",
    "# 模型预测\n",
    "xfit = np.linspace(-1, 11)\n",
    "# \n",
    "Xfit = xfit[:, np.newaxis]\n",
    "yfit = model.predict(Xfit)\n",
    "# 生成图形\n",
    "plt.scatter(x, y)\n",
    "plt.plot(xfit, yfit);\n"
   ]
  }
 ],
 "metadata": {
  "kernelspec": {
   "display_name": "Python 3",
   "language": "python",
   "name": "python3"
  },
  "language_info": {
   "codemirror_mode": {
    "name": "ipython",
    "version": 3
   },
   "file_extension": ".py",
   "mimetype": "text/x-python",
   "name": "python",
   "nbconvert_exporter": "python",
   "pygments_lexer": "ipython3",
   "version": "3.6.5"
  }
 },
 "nbformat": 4,
 "nbformat_minor": 2
}
