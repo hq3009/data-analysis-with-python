{
  "nbformat": 4,
  "nbformat_minor": 0,
  "metadata": {
    "colab": {
      "name": "test.ipynb",
      "version": "0.3.2",
      "provenance": [],
      "collapsed_sections": []
    },
    "kernelspec": {
      "name": "python3",
      "display_name": "Python 3"
    }
  },
  "cells": [
    {
      "cell_type": "markdown",
      "metadata": {
        "id": "roEWJIZNCtoF",
        "colab_type": "text"
      },
      "source": [
        "# 基于二手车价格数据集的汽车价格数据分析与预测"
      ]
    },
    {
      "cell_type": "markdown",
      "metadata": {
        "id": "WElF0ZNKDHsR",
        "colab_type": "text"
      },
      "source": [
        "## 简介\n",
        "\n",
        "从\n",
        "https://archive.ics.uci.edu/ml/machine-learning-databases/autos/\n",
        "上提供的数据集中分析和可视化二手车价格。\n",
        "\n",
        "分为四部分：\n",
        "\n",
        "- 数据处理-pre处理python中的数据 \n",
        "  - 处理缺失值\n",
        "  - 数据格式整理\n",
        "  - 数据规范化\n",
        "  - 数据分箱\n",
        "  \n",
        "- 探索性数据分析\n",
        "  - 描述性统计\n",
        "  - 分组\n",
        "  - 方差分析\n",
        "  - 相关性分析\n",
        "  \n",
        "- 模型建立\n",
        "    - 简单线性回归\n",
        "    - 多元线性回归\n",
        "    \n",
        "- 模型评估\n",
        "     - 回归图         \n",
        "     - 分布图"
      ]
    },
    {
      "cell_type": "markdown",
      "metadata": {
        "id": "w4oP3WNyJb2r",
        "colab_type": "text"
      },
      "source": [
        "## 导入相关包"
      ]
    },
    {
      "cell_type": "code",
      "metadata": {
        "id": "nfQY22tCFe2r",
        "colab_type": "code",
        "colab": {}
      },
      "source": [
        "# 导入相关包\n",
        "\n",
        "import pandas as pd\n",
        "import numpy as np\n",
        "import math\n",
        "import matplotlib.pyplot as plt\n",
        "import seaborn as sns\n",
        "from sklearn.linear_model import LinearRegression"
      ],
      "execution_count": 0,
      "outputs": []
    },
    {
      "cell_type": "markdown",
      "metadata": {
        "id": "UU3a7WN_E-yw",
        "colab_type": "text"
      },
      "source": [
        "## 获取数据\n",
        "\n",
        "数据地址：https://archive.ics.uci.edu/ml/datasets/automobile\n"
      ]
    },
    {
      "cell_type": "code",
      "metadata": {
        "id": "4b4SeoZ_Fxwh",
        "colab_type": "code",
        "colab": {
          "base_uri": "https://localhost:8080/",
          "height": 226
        },
        "outputId": "c032213e-3836-4ace-a6ea-804204cc432a"
      },
      "source": [
        "# 读取数据\n",
        "\n",
        "url = \"https://archive.ics.uci.edu/ml/machine-learning-databases/autos/imports-85.data\"\n",
        "\n",
        "df = pd.read_csv(url, header = None)\n",
        "df.head(5)\n",
        "df.tail(5)"
      ],
      "execution_count": 30,
      "outputs": [
        {
          "output_type": "execute_result",
          "data": {
            "text/html": [
              "<div>\n",
              "<style scoped>\n",
              "    .dataframe tbody tr th:only-of-type {\n",
              "        vertical-align: middle;\n",
              "    }\n",
              "\n",
              "    .dataframe tbody tr th {\n",
              "        vertical-align: top;\n",
              "    }\n",
              "\n",
              "    .dataframe thead th {\n",
              "        text-align: right;\n",
              "    }\n",
              "</style>\n",
              "<table border=\"1\" class=\"dataframe\">\n",
              "  <thead>\n",
              "    <tr style=\"text-align: right;\">\n",
              "      <th></th>\n",
              "      <th>0</th>\n",
              "      <th>1</th>\n",
              "      <th>2</th>\n",
              "      <th>3</th>\n",
              "      <th>4</th>\n",
              "      <th>5</th>\n",
              "      <th>6</th>\n",
              "      <th>7</th>\n",
              "      <th>8</th>\n",
              "      <th>9</th>\n",
              "      <th>10</th>\n",
              "      <th>11</th>\n",
              "      <th>12</th>\n",
              "      <th>13</th>\n",
              "      <th>14</th>\n",
              "      <th>15</th>\n",
              "      <th>16</th>\n",
              "      <th>17</th>\n",
              "      <th>18</th>\n",
              "      <th>19</th>\n",
              "      <th>20</th>\n",
              "      <th>21</th>\n",
              "      <th>22</th>\n",
              "      <th>23</th>\n",
              "      <th>24</th>\n",
              "      <th>25</th>\n",
              "    </tr>\n",
              "  </thead>\n",
              "  <tbody>\n",
              "    <tr>\n",
              "      <th>200</th>\n",
              "      <td>-1</td>\n",
              "      <td>95</td>\n",
              "      <td>volvo</td>\n",
              "      <td>gas</td>\n",
              "      <td>std</td>\n",
              "      <td>four</td>\n",
              "      <td>sedan</td>\n",
              "      <td>rwd</td>\n",
              "      <td>front</td>\n",
              "      <td>109.1</td>\n",
              "      <td>188.8</td>\n",
              "      <td>68.9</td>\n",
              "      <td>55.5</td>\n",
              "      <td>2952</td>\n",
              "      <td>ohc</td>\n",
              "      <td>four</td>\n",
              "      <td>141</td>\n",
              "      <td>mpfi</td>\n",
              "      <td>3.78</td>\n",
              "      <td>3.15</td>\n",
              "      <td>9.5</td>\n",
              "      <td>114</td>\n",
              "      <td>5400</td>\n",
              "      <td>23</td>\n",
              "      <td>28</td>\n",
              "      <td>16845</td>\n",
              "    </tr>\n",
              "    <tr>\n",
              "      <th>201</th>\n",
              "      <td>-1</td>\n",
              "      <td>95</td>\n",
              "      <td>volvo</td>\n",
              "      <td>gas</td>\n",
              "      <td>turbo</td>\n",
              "      <td>four</td>\n",
              "      <td>sedan</td>\n",
              "      <td>rwd</td>\n",
              "      <td>front</td>\n",
              "      <td>109.1</td>\n",
              "      <td>188.8</td>\n",
              "      <td>68.8</td>\n",
              "      <td>55.5</td>\n",
              "      <td>3049</td>\n",
              "      <td>ohc</td>\n",
              "      <td>four</td>\n",
              "      <td>141</td>\n",
              "      <td>mpfi</td>\n",
              "      <td>3.78</td>\n",
              "      <td>3.15</td>\n",
              "      <td>8.7</td>\n",
              "      <td>160</td>\n",
              "      <td>5300</td>\n",
              "      <td>19</td>\n",
              "      <td>25</td>\n",
              "      <td>19045</td>\n",
              "    </tr>\n",
              "    <tr>\n",
              "      <th>202</th>\n",
              "      <td>-1</td>\n",
              "      <td>95</td>\n",
              "      <td>volvo</td>\n",
              "      <td>gas</td>\n",
              "      <td>std</td>\n",
              "      <td>four</td>\n",
              "      <td>sedan</td>\n",
              "      <td>rwd</td>\n",
              "      <td>front</td>\n",
              "      <td>109.1</td>\n",
              "      <td>188.8</td>\n",
              "      <td>68.9</td>\n",
              "      <td>55.5</td>\n",
              "      <td>3012</td>\n",
              "      <td>ohcv</td>\n",
              "      <td>six</td>\n",
              "      <td>173</td>\n",
              "      <td>mpfi</td>\n",
              "      <td>3.58</td>\n",
              "      <td>2.87</td>\n",
              "      <td>8.8</td>\n",
              "      <td>134</td>\n",
              "      <td>5500</td>\n",
              "      <td>18</td>\n",
              "      <td>23</td>\n",
              "      <td>21485</td>\n",
              "    </tr>\n",
              "    <tr>\n",
              "      <th>203</th>\n",
              "      <td>-1</td>\n",
              "      <td>95</td>\n",
              "      <td>volvo</td>\n",
              "      <td>diesel</td>\n",
              "      <td>turbo</td>\n",
              "      <td>four</td>\n",
              "      <td>sedan</td>\n",
              "      <td>rwd</td>\n",
              "      <td>front</td>\n",
              "      <td>109.1</td>\n",
              "      <td>188.8</td>\n",
              "      <td>68.9</td>\n",
              "      <td>55.5</td>\n",
              "      <td>3217</td>\n",
              "      <td>ohc</td>\n",
              "      <td>six</td>\n",
              "      <td>145</td>\n",
              "      <td>idi</td>\n",
              "      <td>3.01</td>\n",
              "      <td>3.40</td>\n",
              "      <td>23.0</td>\n",
              "      <td>106</td>\n",
              "      <td>4800</td>\n",
              "      <td>26</td>\n",
              "      <td>27</td>\n",
              "      <td>22470</td>\n",
              "    </tr>\n",
              "    <tr>\n",
              "      <th>204</th>\n",
              "      <td>-1</td>\n",
              "      <td>95</td>\n",
              "      <td>volvo</td>\n",
              "      <td>gas</td>\n",
              "      <td>turbo</td>\n",
              "      <td>four</td>\n",
              "      <td>sedan</td>\n",
              "      <td>rwd</td>\n",
              "      <td>front</td>\n",
              "      <td>109.1</td>\n",
              "      <td>188.8</td>\n",
              "      <td>68.9</td>\n",
              "      <td>55.5</td>\n",
              "      <td>3062</td>\n",
              "      <td>ohc</td>\n",
              "      <td>four</td>\n",
              "      <td>141</td>\n",
              "      <td>mpfi</td>\n",
              "      <td>3.78</td>\n",
              "      <td>3.15</td>\n",
              "      <td>9.5</td>\n",
              "      <td>114</td>\n",
              "      <td>5400</td>\n",
              "      <td>19</td>\n",
              "      <td>25</td>\n",
              "      <td>22625</td>\n",
              "    </tr>\n",
              "  </tbody>\n",
              "</table>\n",
              "</div>"
            ],
            "text/plain": [
              "     0   1      2       3      4     5   ...    20   21    22  23  24     25\n",
              "200  -1  95  volvo     gas    std  four  ...   9.5  114  5400  23  28  16845\n",
              "201  -1  95  volvo     gas  turbo  four  ...   8.7  160  5300  19  25  19045\n",
              "202  -1  95  volvo     gas    std  four  ...   8.8  134  5500  18  23  21485\n",
              "203  -1  95  volvo  diesel  turbo  four  ...  23.0  106  4800  26  27  22470\n",
              "204  -1  95  volvo     gas  turbo  four  ...   9.5  114  5400  19  25  22625\n",
              "\n",
              "[5 rows x 26 columns]"
            ]
          },
          "metadata": {
            "tags": []
          },
          "execution_count": 30
        }
      ]
    },
    {
      "cell_type": "code",
      "metadata": {
        "id": "_HruW-AiGbUH",
        "colab_type": "code",
        "colab": {}
      },
      "source": [
        "# 定义表头\n",
        "\n",
        "headers=[\"symboling\", \"normalized-losses\", \"make\", \"fuel-type\", \"aspiration\", \"num-of-doors\", \"body-style\", \"drive-wheels\",\n",
        "        \"engine-location\", \"wheel-base\", \"length\", \"width\", \"height\", \"curb-weight\", \"engine-type\", \"num-of-cylinders\",\n",
        "         \"engine-size\", \"fuel-system\", \"bore\", \"stroke\", \"compression-ratio\", \"horsepower\", \"peak-rpm\", \"city-mpg\",\n",
        "         \"highway-mpg\", \"price\"]\n",
        "df.columns = headers"
      ],
      "execution_count": 0,
      "outputs": []
    },
    {
      "cell_type": "code",
      "metadata": {
        "id": "a3wX1HdIG42R",
        "colab_type": "code",
        "colab": {
          "base_uri": "https://localhost:8080/",
          "height": 497
        },
        "outputId": "49b8b5f5-46df-4795-e5d8-bd4f29fa2a05"
      },
      "source": [
        "# view data types\n",
        "\n",
        "print(df.dtypes)"
      ],
      "execution_count": 32,
      "outputs": [
        {
          "output_type": "stream",
          "text": [
            "symboling              int64\n",
            "normalized-losses     object\n",
            "make                  object\n",
            "fuel-type             object\n",
            "aspiration            object\n",
            "num-of-doors          object\n",
            "body-style            object\n",
            "drive-wheels          object\n",
            "engine-location       object\n",
            "wheel-base           float64\n",
            "length               float64\n",
            "width                float64\n",
            "height               float64\n",
            "curb-weight            int64\n",
            "engine-type           object\n",
            "num-of-cylinders      object\n",
            "engine-size            int64\n",
            "fuel-system           object\n",
            "bore                  object\n",
            "stroke                object\n",
            "compression-ratio    float64\n",
            "horsepower            object\n",
            "peak-rpm              object\n",
            "city-mpg               int64\n",
            "highway-mpg            int64\n",
            "price                 object\n",
            "dtype: object\n"
          ],
          "name": "stdout"
        }
      ]
    },
    {
      "cell_type": "markdown",
      "metadata": {
        "id": "ouNellKJJnaS",
        "colab_type": "text"
      },
      "source": [
        "## 可以导出数据"
      ]
    },
    {
      "cell_type": "code",
      "metadata": {
        "colab_type": "code",
        "id": "oo8d_hVnJAZR",
        "colab": {}
      },
      "source": [
        "# Exporting to csv (这条不执行)\n",
        "\n",
        "path = \"D:/cars.csv\"\n",
        "df.to_csv(path)"
      ],
      "execution_count": 0,
      "outputs": []
    },
    {
      "cell_type": "markdown",
      "metadata": {
        "id": "NTCZwKQuJzSH",
        "colab_type": "text"
      },
      "source": [
        "## 观察数据的总体属性"
      ]
    },
    {
      "cell_type": "code",
      "metadata": {
        "id": "OrVhgGLtJySj",
        "colab_type": "code",
        "colab": {}
      },
      "source": [
        "# 描述性统计\n",
        "\n",
        "print(df.describe(include=\"all\"))\n",
        "print(df.info)"
      ],
      "execution_count": 0,
      "outputs": []
    },
    {
      "cell_type": "markdown",
      "metadata": {
        "id": "OlXMFPrmKTmz",
        "colab_type": "text"
      },
      "source": [
        "## 数据整理"
      ]
    },
    {
      "cell_type": "code",
      "metadata": {
        "id": "ddHxmDuUKTGN",
        "colab_type": "code",
        "colab": {}
      },
      "source": [
        "# 将 \"?\" 替换为 NAN (这条在 colab 上不执行)\n",
        "\n",
        "df[\"price\"].replace('?',np.nan, inplace = True)\n",
        "path = \"D:/cars.csv\"\n",
        "df.to_csv(path)"
      ],
      "execution_count": 0,
      "outputs": []
    },
    {
      "cell_type": "code",
      "metadata": {
        "id": "s47lT7RjMSvR",
        "colab_type": "code",
        "colab": {}
      },
      "source": [
        "## 数据格式整理，将价格数据转换为整数，丢弃缺失数据\n",
        "\n",
        "df[\"price\"].replace('?', np.nan, inplace = True)\n",
        "df.dropna(subset=[\"price\"], axis=0, inplace=True)\n",
        "df[\"price\"] = df[\"price\"].astype(\"int\")"
      ],
      "execution_count": 0,
      "outputs": []
    },
    {
      "cell_type": "code",
      "metadata": {
        "id": "Qt3asDDtMtQn",
        "colab_type": "code",
        "colab": {}
      },
      "source": [
        "# 继续整理，将 peak-rpm 从因子类型转换为整数类型，丢弃 NaN 值\n",
        "\n",
        "df[\"peak-rpm\"].replace('?', np.nan, inplace = True)\n",
        "df.dropna(subset=[\"peak-rpm\"], axis=0, inplace=True)\n",
        "df[\"peak-rpm\"] = df[\"peak-rpm\"].astype(\"int\")"
      ],
      "execution_count": 0,
      "outputs": []
    },
    {
      "cell_type": "code",
      "metadata": {
        "id": "alqTYcbcNDyX",
        "colab_type": "code",
        "colab": {}
      },
      "source": [
        "# 再次观察数据的基本信息\n",
        "\n",
        "print(df.info)"
      ],
      "execution_count": 0,
      "outputs": []
    },
    {
      "cell_type": "markdown",
      "metadata": {
        "id": "s3DEgMwzNex3",
        "colab_type": "text"
      },
      "source": [
        "## 数据分箱"
      ]
    },
    {
      "cell_type": "code",
      "metadata": {
        "id": "sEezE4IHNhAY",
        "colab_type": "code",
        "colab": {}
      },
      "source": [
        "# (这条在 colab 上不执行)\n",
        "\n",
        "binwidth = int((max(df[\"price\"])-min(df[\"price\"]))/3)\n",
        "bins = range(min(df[\"price\"]), max(df[\"price\"]), binwidth)\n",
        "group_names = ['low','medium','high']\n",
        "df[\"price-binned\"] = pd.cut(df[\"price\"], bins, labels=group_names)\n",
        "path = \"D:/cars.csv\"\n",
        "df.to_csv(path)\n",
        "df.dropna(subset=[\"price-binned\"], axis=0, inplace=True)"
      ],
      "execution_count": 0,
      "outputs": []
    },
    {
      "cell_type": "markdown",
      "metadata": {
        "id": "y_yJBCVEN-c3",
        "colab_type": "text"
      },
      "source": [
        "## 数据可视化"
      ]
    },
    {
      "cell_type": "code",
      "metadata": {
        "id": "N6aKwToDN6EU",
        "colab_type": "code",
        "colab": {}
      },
      "source": [
        "# 绘制直方图\n",
        "\n",
        "plt.hist(df[\"price\"],bins=30)\n",
        "plt.title(\"Price Bins\")\n",
        "plt.xlabel(\"Count\")\n",
        "plt.ylabel(\"Price\")\n",
        "plt.show()"
      ],
      "execution_count": 0,
      "outputs": []
    },
    {
      "cell_type": "markdown",
      "metadata": {
        "id": "hvfh3edmPC6Z",
        "colab_type": "text"
      },
      "source": [
        "## 将类别变量转化为定量变量"
      ]
    },
    {
      "cell_type": "code",
      "metadata": {
        "id": "zbjsUch2PLpP",
        "colab_type": "code",
        "colab": {}
      },
      "source": [
        "df = (pd.get_dummies(df[\"fuel-type\"]))"
      ],
      "execution_count": 0,
      "outputs": []
    },
    {
      "cell_type": "code",
      "metadata": {
        "id": "-TtseYpfPQjO",
        "colab_type": "code",
        "colab": {}
      },
      "source": [
        "# 驱动轮统计\n",
        "\n",
        "drive_wheels_counts = df[\"drive-wheels\"].value_counts()\n",
        "drive_wheels_counts.rename(columns={'drive-wheels':'value_counts'}, inplace=True)\n",
        "drive_wheels_counts.index.name = 'drive-wheels'\n",
        "print(drive_wheels_counts)"
      ],
      "execution_count": 0,
      "outputs": []
    },
    {
      "cell_type": "markdown",
      "metadata": {
        "id": "51_8bWeeVOPC",
        "colab_type": "text"
      },
      "source": [
        "## 绘制箱形图"
      ]
    },
    {
      "cell_type": "code",
      "metadata": {
        "id": "rHdcLbJtVJ0t",
        "colab_type": "code",
        "colab": {
          "base_uri": "https://localhost:8080/",
          "height": 283
        },
        "outputId": "bc21bec8-da06-4283-9167-0126c13a114f"
      },
      "source": [
        "sns.boxplot(x=\"drive-wheels\", y=\"price\", data=df)\n",
        "plt.show()"
      ],
      "execution_count": 42,
      "outputs": [
        {
          "output_type": "display_data",
          "data": {
            "image/png": "[encoded data removed]",
            "text/plain": [
              "<Figure size 432x288 with 1 Axes>"
            ]
          },
          "metadata": {
            "tags": []
          }
        }
      ]
    },
    {
      "cell_type": "markdown",
      "metadata": {
        "id": "4VYW4G3UXk8f",
        "colab_type": "text"
      },
      "source": [
        "## 散点图"
      ]
    },
    {
      "cell_type": "code",
      "metadata": {
        "id": "_iYbfHegXSb1",
        "colab_type": "code",
        "colab": {
          "base_uri": "https://localhost:8080/",
          "height": 295
        },
        "outputId": "87ea66c3-5246-48a5-938d-b49d4ce00ad9"
      },
      "source": [
        "# 散点图 - 汽车价格与发动机尺寸的关系\n",
        "\n",
        "y=df[\"engine-size\"]\n",
        "x=df[\"price\"]\n",
        "plt.scatter(x,y)\n",
        "\n",
        "plt.title(\"Scatterplot of Engine Size vs Price\")\n",
        "plt.xlabel(\"Engine Size\")\n",
        "plt.ylabel(\"Price\")\n",
        "plt.show()"
      ],
      "execution_count": 43,
      "outputs": [
        {
          "output_type": "display_data",
          "data": {
            "image/png": "[encoded data removed]",
            "text/plain": [
              "<Figure size 432x288 with 1 Axes>"
            ]
          },
          "metadata": {
            "tags": []
          }
        }
      ]
    },
    {
      "cell_type": "markdown",
      "metadata": {
        "id": "s-H-zc9UeV0s",
        "colab_type": "text"
      },
      "source": [
        "## 更高级的作图"
      ]
    },
    {
      "cell_type": "code",
      "metadata": {
        "id": "CCSGsYEcdjrs",
        "colab_type": "code",
        "colab": {
          "base_uri": "https://localhost:8080/",
          "height": 35
        },
        "outputId": "1d6099a8-9c9e-4da8-f5e4-2d0af0fe76d2"
      },
      "source": [
        "# 导入专用的作图包\n",
        "\n",
        "import plotly\n",
        "import plotly.graph_objs as go\n",
        "\n",
        "# 绘制散点图\n",
        "fig1 = go.Scatter(x=df['curb-weight'],\n",
        "                  y=df['price'],\n",
        "                  mode='markers')\n",
        "\n",
        "# 设置图形\n",
        "mylayout = go.Layout(xaxis=dict(title=\"curb-weight\"),\n",
        "                     yaxis=dict( title=\"price\"))\n",
        "\n",
        "# 作图并导出为 html 格式文档\n",
        "plotly.offline.plot({\"data\": [fig1],\n",
        "                     \"layout\": mylayout},\n",
        "auto_open=True)"
      ],
      "execution_count": 52,
      "outputs": [
        {
          "output_type": "execute_result",
          "data": {
            "text/plain": [
              "'file:///content/temp-plot.html'"
            ]
          },
          "metadata": {
            "tags": []
          },
          "execution_count": 52
        }
      ]
    },
    {
      "cell_type": "markdown",
      "metadata": {
        "id": "riH510XXeukl",
        "colab_type": "text"
      },
      "source": [
        "绘制成功后，可以在当前工作目录中找到生成的网页文档，下载后可以打开看。"
      ]
    },
    {
      "cell_type": "markdown",
      "metadata": {
        "id": "2pw1xiyCfFpX",
        "colab_type": "text"
      },
      "source": [
        "## 三维散点图"
      ]
    },
    {
      "cell_type": "code",
      "metadata": {
        "id": "6jJTEnG3fISn",
        "colab_type": "code",
        "colab": {
          "base_uri": "https://localhost:8080/",
          "height": 35
        },
        "outputId": "31dc6871-89c5-45b1-bbcd-5877b90b18f9"
      },
      "source": [
        "# import modules\n",
        "import plotly\n",
        "import plotly.graph_objs as go\n",
        "\n",
        "# make plotly figure\n",
        "fig2 = go.Scatter3d(x=df['curb-weight'],\n",
        "                    y=df['price'],\n",
        "                    z=df['horsepower'],\n",
        "                    mode='markers')\n",
        "\n",
        "# make plotly Layout\n",
        "mylayout = go.Layout(xaxis=dict(title=\"curb-weight\"),\n",
        "                     yaxis=dict(title=\"price\"),\n",
        "                     #zaxis=dict(title=\"horsepower\")\n",
        "                    )\n",
        "\n",
        "# plot and save html\n",
        "plotly.offline.plot({\"data\": [fig2], \n",
        "                     \"layout\": mylayout},\n",
        "                    auto_open=True)"
      ],
      "execution_count": 65,
      "outputs": [
        {
          "output_type": "execute_result",
          "data": {
            "text/plain": [
              "'file:///content/temp-plot.html'"
            ]
          },
          "metadata": {
            "tags": []
          },
          "execution_count": 65
        }
      ]
    },
    {
      "cell_type": "markdown",
      "metadata": {
        "id": "Ljwp88XSYP5x",
        "colab_type": "text"
      },
      "source": [
        "## 数据分组分析"
      ]
    },
    {
      "cell_type": "code",
      "metadata": {
        "id": "WrkBhYcIYQXw",
        "colab_type": "code",
        "colab": {
          "base_uri": "https://localhost:8080/",
          "height": 159
        },
        "outputId": "c57de230-cfab-4617-8269-eaf2a38fa4dd"
      },
      "source": [
        "# 数据分组\n",
        "\n",
        "df_test = df[[\"drive-wheels\", \"body-style\", \"price\"]]\n",
        "df_group = df_test.groupby(['drive-wheels', 'body-style'], as_index = False).mean()\n",
        "\n",
        "# 数据透视表 - 基于驱动轮和车身类型的价格透视\n",
        "\n",
        "df_pivot = df_group.pivot(index = 'drive-wheels', columns= 'body-style')\n",
        "print(df_pivot)"
      ],
      "execution_count": 44,
      "outputs": [
        {
          "output_type": "stream",
          "text": [
            "                   price                ...                            \n",
            "body-style   convertible       hardtop  ...         sedan         wagon\n",
            "drive-wheels                            ...                            \n",
            "4wd                  NaN           NaN  ...  12647.333333   9095.750000\n",
            "fwd              11595.0   8249.000000  ...   9811.800000  10061.181818\n",
            "rwd              23949.6  24202.714286  ...  21711.833333  16994.222222\n",
            "\n",
            "[3 rows x 5 columns]\n"
          ],
          "name": "stdout"
        }
      ]
    },
    {
      "cell_type": "code",
      "metadata": {
        "id": "30OPgNRRZfux",
        "colab_type": "code",
        "colab": {
          "base_uri": "https://localhost:8080/",
          "height": 269
        },
        "outputId": "53136051-e41e-495d-dea7-30bed072890f"
      },
      "source": [
        "# 热力图\n",
        "\n",
        "plt.pcolor(df_pivot, cmap='RdBu')\n",
        "plt.colorbar()\n",
        "plt.show()"
      ],
      "execution_count": 45,
      "outputs": [
        {
          "output_type": "display_data",
          "data": {
            "image/png": "[encoded data removed]",
            "text/plain": [
              "<Figure size 432x288 with 2 Axes>"
            ]
          },
          "metadata": {
            "tags": []
          }
        }
      ]
    },
    {
      "cell_type": "markdown",
      "metadata": {
        "id": "0Y4DPVOdaWwx",
        "colab_type": "text"
      },
      "source": [
        "## 相关性分析"
      ]
    },
    {
      "cell_type": "code",
      "metadata": {
        "id": "pEyLZJncaS5K",
        "colab_type": "code",
        "colab": {
          "base_uri": "https://localhost:8080/",
          "height": 295
        },
        "outputId": "97516a96-250f-4781-d463-274235188057"
      },
      "source": [
        "# 相关性分析 - 发动机尺寸与价格的线性关系\n",
        "\n",
        "sns.regplot(x='engine-size', y='price', data=df)\n",
        "plt.title(\"Scatterplot of Engine Size vs Price\")\n",
        "plt.xlabel(\"Engine Size\")\n",
        "plt.ylabel(\"Price\")\n",
        "plt.ylim(0,)\n",
        "plt.show()"
      ],
      "execution_count": 46,
      "outputs": [
        {
          "output_type": "display_data",
          "data": {
            "image/png": "[encoded data removed]",
            "text/plain": [
              "<Figure size 432x288 with 1 Axes>"
            ]
          },
          "metadata": {
            "tags": []
          }
        }
      ]
    },
    {
      "cell_type": "code",
      "metadata": {
        "id": "2nVxL2s4a60o",
        "colab_type": "code",
        "colab": {
          "base_uri": "https://localhost:8080/",
          "height": 295
        },
        "outputId": "3c8217ce-5c1e-4a03-b04c-026b4e99ebe1"
      },
      "source": [
        "# 相关性分析 - 高速公路 MPG 与 汽车价格的负相关关系\n",
        "\n",
        "sns.regplot(x='highway-mpg', y='price', data=df)\n",
        "plt.title(\"Scatterplot of highway-mpg vs price\")\n",
        "plt.xlabel(\"highway-mpg\")\n",
        "plt.ylabel(\"price\")\n",
        "plt.ylim(0,)\n",
        "plt.show()"
      ],
      "execution_count": 47,
      "outputs": [
        {
          "output_type": "display_data",
          "data": {
            "image/png": "[encoded data removed]",
            "text/plain": [
              "<Figure size 432x288 with 1 Axes>"
            ]
          },
          "metadata": {
            "tags": []
          }
        }
      ]
    },
    {
      "cell_type": "code",
      "metadata": {
        "id": "kOBTfo8KbZ5V",
        "colab_type": "code",
        "colab": {
          "base_uri": "https://localhost:8080/",
          "height": 295
        },
        "outputId": "eaf069f4-d3a0-4b20-ef83-237f73d20601"
      },
      "source": [
        "# 弱线性相关 - 发动机瞬时转速与价格的关系\n",
        "\n",
        "sns.regplot(x='peak-rpm', y='price', data=df)\n",
        "plt.title(\"Scatterplot of peak-rpm vs price\")\n",
        "plt.xlabel(\"peak-rpm\")\n",
        "plt.ylabel(\"price\")\n",
        "plt.ylim(0,)\n",
        "plt.show()"
      ],
      "execution_count": 48,
      "outputs": [
        {
          "output_type": "display_data",
          "data": {
            "image/png": "[encoded data removed]",
            "text/plain": [
              "<Figure size 432x288 with 1 Axes>"
            ]
          },
          "metadata": {
            "tags": []
          }
        }
      ]
    },
    {
      "cell_type": "markdown",
      "metadata": {
        "id": "qSDcsOa8UVYj",
        "colab_type": "text"
      },
      "source": [
        "## 简单的线性回归拟合结果"
      ]
    },
    {
      "cell_type": "code",
      "metadata": {
        "id": "Xf5cpQpCUECg",
        "colab_type": "code",
        "colab": {}
      },
      "source": [
        "lm = LinearRegression()\n",
        "X=df[[\"highway-mpg\"]]\n",
        "Y=df[\"price\"]\n",
        "lm.fit(X,Y)\n",
        "Yhat1 = lm.predict(X)\n",
        "b0 = lm.intercept_\n",
        "b1 = lm.coef_\n",
        "estimated = b0 + b1*X\n",
        "\n",
        "ax1 = sns.distplot(df[\"price\"],hist = False, color=\"r\", label=\"Actual Value\")\n",
        "sns.distplot(Yhat1, hist = False, color=\"b\", label=\"Fitted Value\", ax=ax1)\n",
        "plt.ylim(0,)\n",
        "plt.show()\n"
      ],
      "execution_count": 0,
      "outputs": []
    },
    {
      "cell_type": "markdown",
      "metadata": {
        "id": "7lLC3iWbc_5Y",
        "colab_type": "text"
      },
      "source": [
        "## 多元线性回归"
      ]
    },
    {
      "cell_type": "code",
      "metadata": {
        "id": "bQd0RhbDcfXB",
        "colab_type": "code",
        "colab": {
          "base_uri": "https://localhost:8080/",
          "height": 283
        },
        "outputId": "1d1cb870-18cc-4d58-d1a7-5d7e346f17b1"
      },
      "source": [
        "# 多元线性回归 - Multiple Linear Regression with Distribution plot\n",
        "\n",
        "lm = LinearRegression()\n",
        "Z = df[[\"horsepower\", \"curb-weight\", \"engine-size\", \"highway-mpg\"]]\n",
        "Y=df[\"price\"]\n",
        "lm.fit(Z,Y)\n",
        "Y=df[\"price\"]\n",
        "Yhat2 = lm.predict(Z)\n",
        "\n",
        "ax1 = sns.distplot(df[\"price\"],hist = False, color=\"r\", label=\"Actual Value\")\n",
        "sns.distplot(Yhat2, hist = False, color=\"b\", label=\"Fitted Value\", ax=ax1)\n",
        "plt.ylim(0,)\n",
        "plt.show()"
      ],
      "execution_count": 49,
      "outputs": [
        {
          "output_type": "display_data",
          "data": {
            "image/png": "[encoded data removed]",
            "text/plain": [
              "<Figure size 432x288 with 1 Axes>"
            ]
          },
          "metadata": {
            "tags": []
          }
        }
      ]
    }
  ]
}