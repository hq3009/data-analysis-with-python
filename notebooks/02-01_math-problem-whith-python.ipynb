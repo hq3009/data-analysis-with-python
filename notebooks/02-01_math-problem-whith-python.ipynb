{
 "cells": [
  {
   "cell_type": "markdown",
   "metadata": {},
   "source": [
    "# 让 Python 做数学题"
   ]
  },
  {
   "cell_type": "markdown",
   "metadata": {},
   "source": [
    "## 让 Python 找到极值点并画图\n",
    "\n",
    "### [求一元函数的极值的原理](https://jed-ai.github.io/py1_gd_animation/)\n",
    "\n",
    "$$\n",
    "\\begin{eqnarray} && \\text{minimize} && y = f(x) = x^{2} - 4x + 2 \\\\ && \\text{subject to} && -1 \\leq x \\leq 6 \\end{eqnarray} \\qquad \n",
    "$$\n",
    "\n",
    "根据凸函数的定义，下面的不等式可以证明这个函数是一个凸函数。\n",
    "\n",
    "$$\n",
    "\\begin{eqnarray} f(\\displaystyle\\frac {x_{1} + x_{2}} {2}) &=& (\\displaystyle\\frac {x_{1} + x_{2}} {2})^{2} - 4(\\displaystyle\\frac {x_{1} + x_{2}} {2}) + 2 \\\\ &=& \\displaystyle\\frac{1}{4} (x_{1}^{2} + x_{2}^{2}) + \\displaystyle\\frac{1}{2} x_{1} x_{2} - 2(x_{1} + x_{2}) + 2 \\end{eqnarray} \\qquad \n",
    "$$\n",
    "\n",
    "\n",
    "$$\n",
    "\\begin{eqnarray} \\displaystyle\\frac {f(x_{1}) + f(x_{2})} {2} &=& \\displaystyle\\frac {1}{2} (x_{1}^{2} - 4 x_{1} + 2) + \\displaystyle\\frac {1}{2} (x_{2}^{2} - 4 x_{2} + 2) \\\\ &=& \\displaystyle\\frac{1}{2} (x_{1}^{2} + x_{2}^{2}) - 2(x_{1} + x_{2}) + 2 \\end{eqnarray} \\qquad\n",
    "$$\n",
    "\n",
    "$$\n",
    "\\begin{eqnarray} \\displaystyle\\frac {f(x_{1}) + f(x_{2})} {2} - f(\\displaystyle\\frac {x_{1} + x_{2}} {2}) &=& \\displaystyle\\frac{1}{4} (x_{1}^{2} + x_{2}^{2}) - \\displaystyle\\frac{1}{2} x_{1} x_{2} \\\\ &=& (\\displaystyle\\frac{x_{1} - x_{2}} {2})^2 \\geq 0, \\qquad \\forall x_{1}, x_{2} \\in \\textbf{R} \\end{eqnarray}\n",
    "$$\n",
    "\n",
    "### 操作步骤\n",
    "\n",
    "- 导入必要的包\n",
    "\n",
    "```python\n",
    "import numpy as np\n",
    "import matplotlib.pyplot as plt\n",
    "```\n",
    "- 定义目标函数\n",
    "\n",
    "```python\n",
    "def func_y(x):\n",
    "    y = x**2 - 4*x + 2\n",
    "    return y\n",
    "```\n",
    "\n",
    "- 定义一个可执行梯度下降的函数\n",
    "\n",
    "```python\n",
    "def gradient_descent(previous_x, learning_rate, epoch):\n",
    "    x_gd = []\n",
    "    y_gd = []\n",
    "    \n",
    "    x_gd.append(previous_x)\n",
    "    y_gd.append(func_y(previous_x))\n",
    "\n",
    "    # begin the loops to update x and y\n",
    "    for i in range(epoch):\n",
    "        current_x = previous_x - learning_rate*(2*previous_x - 4)\n",
    "        x_gd.append(current_x)\n",
    "        y_gd.append(func_y(current_x))\n",
    "\n",
    "        # update previous_x\n",
    "        previous_x = current_x\n",
    "\n",
    "    return x_gd, y_gd\n",
    "```\n",
    "\n",
    "- 初始化\n",
    "\n",
    "```python\n",
    "# Initialize x0 and learning rate\n",
    "x0 = -0.7\n",
    "learning_rate = 0.15\n",
    "epoch = 10\n",
    "```\n",
    "- 给函数画图\n",
    "\n",
    "```python\n",
    "# y = x^2 - 4x + 2\n",
    "x = np.arange(-1, 5, 0.01)\n",
    "y = func_y(x)\n",
    "\n",
    "fig, ax = plt.subplots(1, sharey = True)\n",
    "\n",
    "ax.plot(x, y, lw = 0.9, color = 'k')\n",
    "ax.set_xlim([min(x), max(x)])\n",
    "ax.set_ylim([-3, max(y)+1])\n",
    "ax.set_xlabel(r'$x$')\n",
    "ax.set_ylabel(r'$y$')\n",
    "```\n",
    "\n",
    "- 执行算法\n",
    "\n",
    "```python\n",
    "x_gd, y_gd = gradient_descent(x0, learning_rate, epoch)\n",
    "```\n",
    "\n",
    "- 把结果画出来\n",
    "\n",
    "```python\n",
    "ax.scatter(x_gd, y_gd, c = 'b')\n",
    "\n",
    "for i in range(1, epoch+1):\n",
    "    ax.annotate('', xy=(x_gd[i], y_gd[i]), xytext=(x_gd[i-1], y_gd[i-1]),\n",
    "                   arrowprops={'arrowstyle': '->', 'color': 'r', 'lw': 1},\n",
    "                   va='center', ha='center')\n",
    "\n",
    "plt.show()\n",
    "```\n",
    "\n",
    "- 动态展示\n",
    "\n",
    "```python\n",
    "# Create animation\n",
    "line, = ax.plot([], [], 'r', label = 'Gradient descent', lw = 1.5)\n",
    "point, = ax.plot([], [], 'bo')\n",
    "value_display = ax.text(0.02, 0.02, '', transform=ax[1].transAxes)\n",
    "\n",
    "def init():\n",
    "    line.set_data([], [])\n",
    "    point.set_data([], [])\n",
    "    value_display.set_text('')\n",
    "\n",
    "    return line, point, value_display\n",
    "\n",
    "def animate(i):\n",
    "    # Animate line\n",
    "    line.set_data(x_gd[:i], y_gd[:i])\n",
    "    \n",
    "    # Animate points\n",
    "    point.set_data(x_gd[i], y_gd[i])\n",
    "\n",
    "    # Animate value display\n",
    "    value_display.set_text('Min = ' + str(y_gd[i]))\n",
    "\n",
    "    return line, point, value_display\n",
    "\n",
    "ax.legend(loc = 1)\n",
    "anim = animation.FuncAnimation(fig, animate, init_func=init,\n",
    "                               frames=len(x_gd), interval=120, \n",
    "                               repeat_delay=60, blit=True)\n",
    "\n",
    "plt.show()\n",
    "```"
   ]
  },
  {
   "cell_type": "markdown",
   "metadata": {},
   "source": [
    "## 求积分\n",
    "几个例子：\n",
    "求\n",
    "$$\\int_1^2{xdx)}$$\n",
    "的积分："
   ]
  },
  {
   "cell_type": "code",
   "execution_count": 1,
   "metadata": {},
   "outputs": [
    {
     "name": "stdout",
     "output_type": "stream",
     "text": [
      "3/2\n"
     ]
    }
   ],
   "source": [
    "from sympy import *\n",
    "x = symbols('x')\n",
    "print(integrate(x, (x, 1, 2)))"
   ]
  },
  {
   "cell_type": "markdown",
   "metadata": {},
   "source": [
    "$$I=\\int_0^1{(3x^2+2x+1)dx}=(x^3+x^2+x)\\vert_0^1=3+c$$"
   ]
  },
  {
   "cell_type": "code",
   "execution_count": 3,
   "metadata": {},
   "outputs": [
    {
     "name": "stdout",
     "output_type": "stream",
     "text": [
      "   2\n",
      "3 x + 2 x + 1\n",
      "(3.0, 3.3306690738754696e-14)\n"
     ]
    }
   ],
   "source": [
    "import numpy as np\n",
    "from scipy.integrate import quad\n",
    "f = np.poly1d([3, 2, 1])\n",
    "print(f)\n",
    "ret = quad(f, 0, 1)\n",
    "print(ret)"
   ]
  },
  {
   "cell_type": "code",
   "execution_count": null,
   "metadata": {},
   "outputs": [],
   "source": []
  }
 ],
 "metadata": {
  "kernelspec": {
   "display_name": "Python 3",
   "language": "python",
   "name": "python3"
  },
  "language_info": {
   "codemirror_mode": {
    "name": "ipython",
    "version": 3
   },
   "file_extension": ".py",
   "mimetype": "text/x-python",
   "name": "python",
   "nbconvert_exporter": "python",
   "pygments_lexer": "ipython3",
   "version": "3.6.5"
  }
 },
 "nbformat": 4,
 "nbformat_minor": 2
}
