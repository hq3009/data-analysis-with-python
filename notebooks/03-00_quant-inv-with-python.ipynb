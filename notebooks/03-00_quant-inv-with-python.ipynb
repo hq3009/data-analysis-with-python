{
 "cells": [
  {
   "cell_type": "markdown",
   "metadata": {},
   "source": [
    "# 用 Python 做量化投资"
   ]
  },
  {
   "cell_type": "markdown",
   "metadata": {},
   "source": [
    "## 注册免费的量化投资账号\n",
    "\n",
    "国内有不少量化投资网站，比如 https://uqer.datayes.com/\n",
    "\n",
    "可以注册免费的账号，新建策略。\n",
    "\n",
    "下面是一个策略的例子："
   ]
  },
  {
   "cell_type": "code",
   "execution_count": null,
   "metadata": {},
   "outputs": [],
   "source": [
    "import pandas as pd\n",
    "start = '2014-01-01'                       # 回测起始时间\n",
    "end = '2018-01-01'                         # 回测结束时间\n",
    "benchmark = 'HS300'                        # 策略参考标准\n",
    "universe = DynamicUniverse('HS300')  # 股票池为沪深300\n",
    "freq = 'd'                                 # 策略类型，'d'表示日间策略使用日线回测，'m'表示日内策略使用分钟线回测\n",
    "refresh_rate = 60                           # 调仓频率设为60天，表示执行handle_data的时间间隔，若freq = 'd'时间间隔的单位为交易日，若freq = 'm'时间间隔为分钟\n",
    "max_history_window = 60\n",
    "  \n",
    "# 配置账户信息，支持多资产多账户\n",
    "accounts = {\n",
    "    'fantasy_account': AccountConfig(account_type='security', capital_base=10000000)\n",
    "}\n",
    "  \n",
    "def initialize(context):\n",
    "    pass\n",
    "  \n",
    "# 每个单位时间(如果按天回测,则每天调用一次,如果按分钟,则每分钟调用一次)调用一次\n",
    "def handle_data(context):    \n",
    "    account = context.get_account('fantasy_account')   \n",
    "    universe = context.get_universe(exclude_halt=True)\n",
    "    history = context.history(universe, 'closePrice', 60)\n",
    "    momentum = {'symbol':[], 'c_ret':[]}\n",
    "    for stk in history.keys():\n",
    "        momentum['symbol'].append(stk)\n",
    "        momentum['c_ret'].append(history[stk]['closePrice'][-1]/history[stk]['closePrice'][0])\n",
    "    # 按照过去60个交易日的收益率排序，并且选择前60只股票作为买入候选\n",
    "    momentum = pd.DataFrame(momentum).sort(columns = 'c_ret', ascending = False).reset_index()\n",
    "    # print momentum\n",
    "    momentum = momentum[:60]\n",
    "    buylist = momentum['symbol'].tolist()\n",
    "    \n",
    "    for stk in account.get_positions():\n",
    "        if stk not in buylist:\n",
    "            account.order_to(stk, 0)\n",
    "    \n",
    "    # 等权买入所选股票\n",
    "    portfolio_value = account.portfolio_value\n",
    "    for stk in buylist:\n",
    "        account.order_pct_to(stk, 1.0/len(buylist))"
   ]
  }
 ],
 "metadata": {
  "kernelspec": {
   "display_name": "Python 3",
   "language": "python",
   "name": "python3"
  },
  "language_info": {
   "codemirror_mode": {
    "name": "ipython",
    "version": 3
   },
   "file_extension": ".py",
   "mimetype": "text/x-python",
   "name": "python",
   "nbconvert_exporter": "python",
   "pygments_lexer": "ipython3",
   "version": "3.6.5"
  }
 },
 "nbformat": 4,
 "nbformat_minor": 2
}
